{
 "cells": [
  {
   "cell_type": "code",
   "execution_count": 5,
   "metadata": {},
   "outputs": [],
   "source": [
    "#import required libraries\n",
    "from math import sqrt\n",
    "from numpy import concatenate\n",
    "from matplotlib import pyplot\n",
    "from datetime import datetime\n",
    "from pandas import read_csv\n",
    "from pandas import DataFrame\n",
    "from pandas import concat\n",
    "from sklearn.preprocessing import MinMaxScaler\n",
    "from sklearn.preprocessing import LabelEncoder\n",
    "from sklearn.metrics import mean_squared_error\n",
    "from keras.models import Sequential\n",
    "from keras.layers import Dense\n",
    "from keras.layers import LSTM"
   ]
  },
  {
   "cell_type": "code",
   "execution_count": 7,
   "metadata": {},
   "outputs": [],
   "source": [
    "# concatanating the date and the time stamp into one column"
   ]
  },
  {
   "cell_type": "code",
   "execution_count": 9,
   "metadata": {},
   "outputs": [],
   "source": [
    "# import csv\n",
    "# with open('concat.csv') as f:\n",
    "#     reader = csv.reader(f)\n",
    "#     with open('output.csv', 'w') as g:\n",
    "#         writer = csv.writer(g)\n",
    "#         for row in reader:\n",
    "#             new_row = [' '.join([row[0], row[1]])] + row[2:]\n",
    "#             writer.writerow(new_row)"
   ]
  },
  {
   "cell_type": "code",
   "execution_count": 6,
   "metadata": {},
   "outputs": [
    {
     "name": "stdout",
     "output_type": "stream",
     "text": [
      "                  Date time stamp  Bar OPEN Bid Quote  Bar HIGH Bid Quote  \\\n",
      "Date time stamp                                                             \n",
      "0                2016.01.03 17:01             1.08712             1.08712   \n",
      "1                2016.01.03 17:02             1.08708             1.08722   \n",
      "2                2016.01.03 17:03             1.08717             1.08723   \n",
      "3                2016.01.03 17:04             1.08718             1.08718   \n",
      "4                2016.01.03 17:05             1.08703             1.08716   \n",
      "\n",
      "                 Bar LOW Bid Quote  Bar CLOSE Bid Quote  Volume  \n",
      "Date time stamp                                                  \n",
      "0                          1.08712              1.08712       0  \n",
      "1                          1.08708              1.08722       0  \n",
      "2                          1.08717              1.08723       0  \n",
      "3                          1.08711              1.08711       0  \n",
      "4                          1.08701              1.08712       0  \n",
      "                  Date time stamp  Bar OPEN Bid Quote  Bar HIGH Bid Quote  \\\n",
      "Date time stamp                                                             \n",
      "744308           2017.12.29 16:53             1.19972             1.19987   \n",
      "744309           2017.12.29 16:54             1.19985             1.19985   \n",
      "744310           2017.12.29 16:55             1.19969             1.20014   \n",
      "744311           2017.12.29 16:56             1.20009             1.20023   \n",
      "744312           2017.12.29 16:57             1.19982             1.20074   \n",
      "\n",
      "                 Bar LOW Bid Quote  Bar CLOSE Bid Quote  Volume  \n",
      "Date time stamp                                                  \n",
      "744308                     1.19972              1.19987       0  \n",
      "744309                     1.19970              1.19970       0  \n",
      "744310                     1.19961              1.20010       0  \n",
      "744311                     1.19974              1.19983       0  \n",
      "744312                     1.19980              1.20005       0  \n"
     ]
    }
   ],
   "source": [
    "# load data\n",
    "def parse(x):\n",
    "\treturn datetime.strptime(x, '%Y.%m.%d %H:%M')\n",
    "dataset = read_csv('concat.csv', date_parser=parse)\n",
    "#dataset = read_csv('output.csv')\n",
    "#dataset.drop('No', axis=1, inplace=True)\n",
    "\n",
    "# manually specify column names\n",
    "dataset.columns = ['Date time stamp', 'Bar OPEN Bid Quote', 'Bar HIGH Bid Quote', 'Bar LOW Bid Quote', 'Bar CLOSE Bid Quote', 'Volume']\n",
    "dataset.index.name = 'Date time stamp'\n",
    "\n",
    "# mark all NA values with 0\n",
    "dataset['Bar OPEN Bid Quote'].fillna(0, inplace=True)\n",
    "# drop the first 24 hours\n",
    "#dataset = dataset[24:]\n",
    "\n",
    "# summarize first 5 rows\n",
    "print(dataset.head(5))\n",
    "print(dataset.tail(5))\n",
    "\n",
    "# save to file\n",
    "dataset.to_csv('2016.csv')"
   ]
  },
  {
   "cell_type": "code",
   "execution_count": 9,
   "metadata": {},
   "outputs": [],
   "source": [
    "#Loads the new “2016.csv” file and plots each series as a separate subplot"
   ]
  },
  {
   "cell_type": "code",
   "execution_count": null,
   "metadata": {},
   "outputs": [],
   "source": [
    "# # load dataset\n",
    "# dataset = read_csv('2016.csv', header=0, index_col=0)\n",
    "# values = dataset.values\n",
    "\n",
    "# # specify columns to plot\n",
    "# groups = [0, 1, 2, 3, 4, 5]\n",
    "# i = 1\n",
    "\n",
    "# # plot each column\n",
    "# pyplot.figure()\n",
    "# for group in groups:\n",
    "# \tpyplot.subplot(len(groups), 1, i)\n",
    "# \tpyplot.plot(values[:, group])\n",
    "# \tpyplot.title(dataset.columns[group], y=0.5, loc='right')\n",
    "# \ti += 1\n",
    "# pyplot.show()"
   ]
  },
  {
   "cell_type": "code",
   "execution_count": 8,
   "metadata": {},
   "outputs": [
    {
     "name": "stdout",
     "output_type": "stream",
     "text": [
      "   var1(t-1)  var2(t-1)  var3(t-1)  var4(t-1)  var5(t-1)  var6(t-1)   var1(t)\n",
      "1   0.000000   0.301724   0.300962   0.303582   0.302078        0.0  0.000001\n",
      "2   0.000001   0.301495   0.301534   0.303353   0.302650        0.0  0.000003\n",
      "3   0.000003   0.302010   0.301592   0.303868   0.302707        0.0  0.000004\n",
      "4   0.000004   0.302067   0.301306   0.303525   0.302021        0.0  0.000005\n",
      "5   0.000005   0.301208   0.301191   0.302953   0.302078        0.0  0.000007\n"
     ]
    }
   ],
   "source": [
    "# convert series to supervised learning\n",
    "def series_to_supervised(data, n_in=1, n_out=1, dropnan=True):\n",
    "\tn_vars = 1 if type(data) is list else data.shape[1]\n",
    "\tdf = DataFrame(data)\n",
    "\tcols, names = list(), list()\n",
    "\t# input sequence (t-n, ... t-1)\n",
    "\tfor i in range(n_in, 0, -1):\n",
    "\t\tcols.append(df.shift(i))\n",
    "\t\tnames += [('var%d(t-%d)' % (j+1, i)) for j in range(n_vars)]\n",
    "\t# forecast sequence (t, t+1, ... t+n)\n",
    "\tfor i in range(0, n_out):\n",
    "\t\tcols.append(df.shift(-i))\n",
    "\t\tif i == 0:\n",
    "\t\t\tnames += [('var%d(t)' % (j+1)) for j in range(n_vars)]\n",
    "\t\telse:\n",
    "\t\t\tnames += [('var%d(t+%d)' % (j+1, i)) for j in range(n_vars)]\n",
    "\t# put it all together\n",
    "\tagg = concat(cols, axis=1)\n",
    "\tagg.columns = names\n",
    "\t# drop rows with NaN values\n",
    "\tif dropnan:\n",
    "\t\tagg.dropna(inplace=True)\n",
    "\treturn agg\n",
    " \n",
    "# load dataset\n",
    "dataset = read_csv('2016.csv', header=0, index_col=0)\n",
    "values = dataset.values\n",
    "\n",
    "# integer encode direction\n",
    "encoder = LabelEncoder()\n",
    "values[:,0] = encoder.fit_transform(values[:,0])\n",
    "\n",
    "# ensure all data is float\n",
    "values = values.astype('float32')\n",
    "\n",
    "# normalize features\n",
    "scaler = MinMaxScaler(feature_range=(0, 1))\n",
    "scaled = scaler.fit_transform(values)\n",
    "\n",
    "# frame as supervised learning\n",
    "reframed = series_to_supervised(scaled, 1, 1)\n",
    "\n",
    "# drop columns we don't want to predict\n",
    "reframed.drop(reframed.columns[[7,8,9,10,11]], axis=1, inplace=True)\n",
    "print(reframed.head())"
   ]
  },
  {
   "cell_type": "code",
   "execution_count": null,
   "metadata": {},
   "outputs": [],
   "source": [
    "#LSTM with 50 neurons in the first hidden layer \n",
    "#1 neuron in the output layer for predicting foreign currency rate\n",
    "#The input shape will be 1 time step with 6 features."
   ]
  },
  {
   "cell_type": "code",
   "execution_count": 9,
   "metadata": {},
   "outputs": [
    {
     "name": "stdout",
     "output_type": "stream",
     "text": [
      "(734400, 1, 6) (734400,) (9912, 1, 6) (9912,)\n"
     ]
    }
   ],
   "source": [
    "# split into train and test sets# \n",
    "values = reframed.values\n",
    "n_train_minutes = 255 * 24 * 60 * 2\n",
    "train = values[:n_train_minutes, :]\n",
    "test = values[n_train_minutes:, :]\n",
    "\n",
    "# split into input and outputs\n",
    "train_X, train_y = train[:, :-1], train[:, -1]\n",
    "test_X, test_y = test[:, :-1], test[:, -1]\n",
    "\n",
    "# reshape input to be 3D [samples, timesteps, features]\n",
    "train_X = train_X.reshape((train_X.shape[0], 1, train_X.shape[1]))\n",
    "test_X = test_X.reshape((test_X.shape[0], 1, test_X.shape[1]))\n",
    "print(train_X.shape, train_y.shape, test_X.shape, test_y.shape)"
   ]
  },
  {
   "cell_type": "code",
   "execution_count": null,
   "metadata": {},
   "outputs": [],
   "source": [
    "#The model will be fit for 50 training epochs with a batch size of 72"
   ]
  },
  {
   "cell_type": "code",
   "execution_count": 10,
   "metadata": {},
   "outputs": [
    {
     "name": "stdout",
     "output_type": "stream",
     "text": [
      "Train on 734400 samples, validate on 9912 samples\n",
      "Epoch 1/50\n",
      " - 17s - loss: 0.0064 - val_loss: 0.0047\n",
      "Epoch 2/50\n",
      " - 23s - loss: 0.0062 - val_loss: 0.0037\n",
      "Epoch 3/50\n",
      " - 18s - loss: 0.0059 - val_loss: 0.0062\n",
      "Epoch 4/50\n",
      " - 17s - loss: 0.0046 - val_loss: 0.0018\n",
      "Epoch 5/50\n",
      " - 18s - loss: 0.0042 - val_loss: 0.0036\n",
      "Epoch 6/50\n",
      " - 17s - loss: 0.0035 - val_loss: 0.0028\n",
      "Epoch 7/50\n",
      " - 17s - loss: 0.0028 - val_loss: 0.0033\n",
      "Epoch 8/50\n",
      " - 16s - loss: 0.0025 - val_loss: 0.0027\n",
      "Epoch 9/50\n",
      " - 17s - loss: 0.0026 - val_loss: 0.0012\n",
      "Epoch 10/50\n",
      " - 17s - loss: 0.0022 - val_loss: 9.5678e-04\n",
      "Epoch 11/50\n",
      " - 18s - loss: 0.0022 - val_loss: 0.0011\n",
      "Epoch 12/50\n",
      " - 21s - loss: 0.0022 - val_loss: 8.6720e-04\n",
      "Epoch 13/50\n",
      " - 18s - loss: 0.0021 - val_loss: 0.0039\n",
      "Epoch 14/50\n",
      " - 18s - loss: 0.0020 - val_loss: 0.0023\n",
      "Epoch 15/50\n",
      " - 18s - loss: 0.0021 - val_loss: 8.5105e-04\n",
      "Epoch 16/50\n",
      " - 17s - loss: 0.0020 - val_loss: 0.0016\n",
      "Epoch 17/50\n",
      " - 17s - loss: 0.0020 - val_loss: 0.0032\n",
      "Epoch 18/50\n",
      " - 17s - loss: 0.0019 - val_loss: 0.0030\n",
      "Epoch 19/50\n",
      " - 17s - loss: 0.0020 - val_loss: 0.0030\n",
      "Epoch 20/50\n",
      " - 16s - loss: 0.0019 - val_loss: 0.0014\n",
      "Epoch 21/50\n",
      " - 17s - loss: 0.0019 - val_loss: 0.0063\n",
      "Epoch 22/50\n",
      " - 17s - loss: 0.0018 - val_loss: 0.0017\n",
      "Epoch 23/50\n",
      " - 18s - loss: 0.0018 - val_loss: 0.0012\n",
      "Epoch 24/50\n",
      " - 20s - loss: 0.0018 - val_loss: 0.0053\n",
      "Epoch 25/50\n",
      " - 19s - loss: 0.0016 - val_loss: 7.1358e-04\n",
      "Epoch 26/50\n",
      " - 18s - loss: 0.0017 - val_loss: 9.8869e-04\n",
      "Epoch 27/50\n",
      " - 16s - loss: 0.0016 - val_loss: 6.8211e-04\n",
      "Epoch 28/50\n",
      " - 18s - loss: 0.0016 - val_loss: 0.0028\n",
      "Epoch 29/50\n",
      " - 18s - loss: 0.0015 - val_loss: 8.4864e-04\n",
      "Epoch 30/50\n",
      " - 19s - loss: 0.0015 - val_loss: 0.0026\n",
      "Epoch 31/50\n",
      " - 18s - loss: 0.0014 - val_loss: 0.0026\n",
      "Epoch 32/50\n",
      " - 20s - loss: 0.0014 - val_loss: 0.0029\n",
      "Epoch 33/50\n",
      " - 17s - loss: 0.0014 - val_loss: 0.0056\n",
      "Epoch 34/50\n",
      " - 17s - loss: 0.0014 - val_loss: 0.0012\n",
      "Epoch 35/50\n",
      " - 18s - loss: 0.0013 - val_loss: 0.0025\n",
      "Epoch 36/50\n",
      " - 20s - loss: 0.0014 - val_loss: 0.0044\n",
      "Epoch 37/50\n",
      " - 20s - loss: 0.0014 - val_loss: 0.0023\n",
      "Epoch 38/50\n",
      " - 20s - loss: 0.0014 - val_loss: 0.0012\n",
      "Epoch 39/50\n",
      " - 17s - loss: 0.0013 - val_loss: 0.0015\n",
      "Epoch 40/50\n",
      " - 21s - loss: 0.0012 - val_loss: 0.0017\n",
      "Epoch 41/50\n",
      " - 21s - loss: 0.0012 - val_loss: 0.0018\n",
      "Epoch 42/50\n",
      " - 20s - loss: 0.0012 - val_loss: 0.0010\n",
      "Epoch 43/50\n",
      " - 17s - loss: 0.0011 - val_loss: 0.0011\n",
      "Epoch 44/50\n",
      " - 16s - loss: 0.0012 - val_loss: 0.0013\n",
      "Epoch 45/50\n",
      " - 16s - loss: 0.0012 - val_loss: 0.0026\n",
      "Epoch 46/50\n",
      " - 17s - loss: 0.0013 - val_loss: 0.0011\n",
      "Epoch 47/50\n",
      " - 18s - loss: 0.0012 - val_loss: 0.0052\n",
      "Epoch 48/50\n",
      " - 21s - loss: 0.0012 - val_loss: 0.0054\n",
      "Epoch 49/50\n",
      " - 20s - loss: 0.0012 - val_loss: 0.0032\n",
      "Epoch 50/50\n",
      " - 19s - loss: 0.0012 - val_loss: 0.0013\n"
     ]
    },
    {
     "data": {
      "image/png": "[encoded data removed]",
      "text/plain": [
       "<Figure size 432x288 with 1 Axes>"
      ]
     },
     "metadata": {},
     "output_type": "display_data"
    }
   ],
   "source": [
    "#design network# \n",
    "# model = Sequential()\n",
    "# model.add(LSTM(50, input_shape=(train_X.shape[1], train_X.shape[2])))\n",
    "# model.add(Dense(6, activation='relu'))\n",
    "# model.add(Dense(6, activation='relu'))\n",
    "# #output layer\n",
    "# model.add(Dense(1, activation='linear'))\n",
    "# # efficient gradient descent algorithm - adam\n",
    "# model.compile(loss='mae', optimizer='adam')\n",
    "\n",
    "\n",
    "model = Sequential()\n",
    "model.add(LSTM(50, input_shape=(train_X.shape[1], train_X.shape[2])))\n",
    "#model.add(LSTM(6))\n",
    "model.add(Dense(1))\n",
    "model.compile(loss='mae', optimizer='adam')\n",
    "\n",
    "\n",
    "# model = Sequential()\n",
    "# model.add(LSTM(50, input_shape=(train_X.shape[1], train_X.shape[2])))\n",
    "# model.add(Dense(1))\n",
    "# model.compile(loss='mae', optimizer='adam')\n",
    "\n",
    "# fit network\n",
    "# batch size-number of instances that are evaluated before a weight update in the network is performed\n",
    "history = model.fit(train_X, train_y, epochs=50, batch_size=150, validation_data=(test_X, test_y), verbose=2, shuffle=False)\n",
    "\n",
    "# plot history\n",
    "pyplot.plot(history.history['loss'], label='train')\n",
    "pyplot.plot(history.history['val_loss'], label='test')\n",
    "pyplot.legend()\n",
    "pyplot.show()"
   ]
  },
  {
   "cell_type": "code",
   "execution_count": 11,
   "metadata": {},
   "outputs": [
    {
     "name": "stdout",
     "output_type": "stream",
     "text": [
      "Test RMSE: 1174.293\n"
     ]
    }
   ],
   "source": [
    "# make a prediction\n",
    "yhat = model.predict(test_X)\n",
    "test_X = test_X.reshape((test_X.shape[0], test_X.shape[2]))\n",
    "# invert scaling for forecast\n",
    "inv_yhat = concatenate((yhat, test_X[:, 1:]), axis=1)\n",
    "inv_yhat = scaler.inverse_transform(inv_yhat)\n",
    "inv_yhat = inv_yhat[:,0]\n",
    "# invert scaling for actual\n",
    "test_y = test_y.reshape((len(test_y), 1))\n",
    "inv_y = concatenate((test_y, test_X[:, 1:]), axis=1)\n",
    "inv_y = scaler.inverse_transform(inv_y)\n",
    "inv_y = inv_y[:,0]\n",
    "# calculate RMSE\n",
    "rmse = sqrt(mean_squared_error(inv_y, inv_yhat))\n",
    "print('Test RMSE: %.3f' % rmse)"
   ]
  },
  {
   "cell_type": "code",
   "execution_count": null,
   "metadata": {},
   "outputs": [],
   "source": [
    "# # evaluate the model\n",
    "# scores = model.evaluate(X, Y)\n",
    "# print(\"\\n%s: %.2f%%\" % (model.metrics_names[1], scores[1]*100))"
   ]
  }
 ],
 "metadata": {
  "kernelspec": {
   "display_name": "Python 3",
   "language": "python",
   "name": "python3"
  },
  "language_info": {
   "codemirror_mode": {
    "name": "ipython",
    "version": 3
   },
   "file_extension": ".py",
   "mimetype": "text/x-python",
   "name": "python",
   "nbconvert_exporter": "python",
   "pygments_lexer": "ipython3",
   "version": "3.6.5"
  }
 },
 "nbformat": 4,
 "nbformat_minor": 2
}
