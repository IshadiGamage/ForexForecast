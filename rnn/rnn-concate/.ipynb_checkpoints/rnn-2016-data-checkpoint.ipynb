{
 "cells": [
  {
   "cell_type": "code",
   "execution_count": 71,
   "metadata": {},
   "outputs": [],
   "source": [
    "#import required libraries\n",
    "from math import sqrt\n",
    "from numpy import concatenate\n",
    "from matplotlib import pyplot\n",
    "from datetime import datetime\n",
    "import pandas as pd\n",
    "import numpy as np\n",
    "from pandas import read_csv\n",
    "from pandas import DataFrame\n",
    "from pandas import concat\n",
    "from sklearn.preprocessing import MinMaxScaler\n",
    "from sklearn.preprocessing import LabelEncoder\n",
    "from sklearn.metrics import mean_squared_error\n",
    "from keras.models import Sequential\n",
    "from keras.layers import Dense\n",
    "from keras.layers import LSTM\n",
    "pyplot.style.use('fivethirtyeight')"
   ]
  },
  {
   "cell_type": "code",
   "execution_count": 72,
   "metadata": {},
   "outputs": [],
   "source": [
    "df = pd.read_csv('DAT_MT_EURUSD_M1_2016.csv', sep=',', \n",
    "                 parse_dates={'DT' : ['Date', 'Time']}, infer_datetime_format=True, \n",
    "                 low_memory=False, na_values=['nan','?'], index_col='DT')\n"
   ]
  },
  {
   "cell_type": "code",
   "execution_count": 73,
   "metadata": {},
   "outputs": [
    {
     "data": {
      "text/html": [
       "<div>\n",
       "<style scoped>\n",
       "    .dataframe tbody tr th:only-of-type {\n",
       "        vertical-align: middle;\n",
       "    }\n",
       "\n",
       "    .dataframe tbody tr th {\n",
       "        vertical-align: top;\n",
       "    }\n",
       "\n",
       "    .dataframe thead th {\n",
       "        text-align: right;\n",
       "    }\n",
       "</style>\n",
       "<table border=\"1\" class=\"dataframe\">\n",
       "  <thead>\n",
       "    <tr style=\"text-align: right;\">\n",
       "      <th></th>\n",
       "      <th>OPEN</th>\n",
       "      <th>HIGH</th>\n",
       "      <th>LOW</th>\n",
       "      <th>CLOSE</th>\n",
       "      <th>Volume</th>\n",
       "    </tr>\n",
       "    <tr>\n",
       "      <th>DT</th>\n",
       "      <th></th>\n",
       "      <th></th>\n",
       "      <th></th>\n",
       "      <th></th>\n",
       "      <th></th>\n",
       "    </tr>\n",
       "  </thead>\n",
       "  <tbody>\n",
       "    <tr>\n",
       "      <th>2016-01-03 17:00:00</th>\n",
       "      <td>1.08701</td>\n",
       "      <td>1.08713</td>\n",
       "      <td>1.08701</td>\n",
       "      <td>1.08713</td>\n",
       "      <td>0</td>\n",
       "    </tr>\n",
       "    <tr>\n",
       "      <th>2016-01-03 17:01:00</th>\n",
       "      <td>1.08712</td>\n",
       "      <td>1.08712</td>\n",
       "      <td>1.08712</td>\n",
       "      <td>1.08712</td>\n",
       "      <td>0</td>\n",
       "    </tr>\n",
       "    <tr>\n",
       "      <th>2016-01-03 17:02:00</th>\n",
       "      <td>1.08708</td>\n",
       "      <td>1.08722</td>\n",
       "      <td>1.08708</td>\n",
       "      <td>1.08722</td>\n",
       "      <td>0</td>\n",
       "    </tr>\n",
       "    <tr>\n",
       "      <th>2016-01-03 17:03:00</th>\n",
       "      <td>1.08717</td>\n",
       "      <td>1.08723</td>\n",
       "      <td>1.08717</td>\n",
       "      <td>1.08723</td>\n",
       "      <td>0</td>\n",
       "    </tr>\n",
       "    <tr>\n",
       "      <th>2016-01-03 17:04:00</th>\n",
       "      <td>1.08718</td>\n",
       "      <td>1.08718</td>\n",
       "      <td>1.08711</td>\n",
       "      <td>1.08711</td>\n",
       "      <td>0</td>\n",
       "    </tr>\n",
       "  </tbody>\n",
       "</table>\n",
       "</div>"
      ],
      "text/plain": [
       "                        OPEN     HIGH      LOW    CLOSE  Volume\n",
       "DT                                                             \n",
       "2016-01-03 17:00:00  1.08701  1.08713  1.08701  1.08713       0\n",
       "2016-01-03 17:01:00  1.08712  1.08712  1.08712  1.08712       0\n",
       "2016-01-03 17:02:00  1.08708  1.08722  1.08708  1.08722       0\n",
       "2016-01-03 17:03:00  1.08717  1.08723  1.08717  1.08723       0\n",
       "2016-01-03 17:04:00  1.08718  1.08718  1.08711  1.08711       0"
      ]
     },
     "execution_count": 73,
     "metadata": {},
     "output_type": "execute_result"
    }
   ],
   "source": [
    "df.head(5)"
   ]
  },
  {
   "cell_type": "code",
   "execution_count": 74,
   "metadata": {},
   "outputs": [
    {
     "name": "stdout",
     "output_type": "stream",
     "text": [
      "<class 'pandas.core.frame.DataFrame'>\n",
      "DatetimeIndex: 372679 entries, 2016-01-03 17:00:00 to 2016-12-30 16:58:00\n",
      "Data columns (total 5 columns):\n",
      "OPEN      372679 non-null float64\n",
      "HIGH      372679 non-null float64\n",
      "LOW       372679 non-null float64\n",
      "CLOSE     372679 non-null float64\n",
      "Volume    372679 non-null int64\n",
      "dtypes: float64(4), int64(1)\n",
      "memory usage: 17.1 MB\n"
     ]
    }
   ],
   "source": [
    "df.info()"
   ]
  },
  {
   "cell_type": "code",
   "execution_count": 75,
   "metadata": {},
   "outputs": [
    {
     "data": {
      "text/plain": [
       "OPEN      float64\n",
       "HIGH      float64\n",
       "LOW       float64\n",
       "CLOSE     float64\n",
       "Volume      int64\n",
       "dtype: object"
      ]
     },
     "execution_count": 75,
     "metadata": {},
     "output_type": "execute_result"
    }
   ],
   "source": [
    "df.dtypes"
   ]
  },
  {
   "cell_type": "code",
   "execution_count": 76,
   "metadata": {},
   "outputs": [
    {
     "data": {
      "text/plain": [
       "372679"
      ]
     },
     "execution_count": 76,
     "metadata": {},
     "output_type": "execute_result"
    }
   ],
   "source": [
    "len(df)"
   ]
  },
  {
   "cell_type": "code",
   "execution_count": 77,
   "metadata": {},
   "outputs": [
    {
     "data": {
      "text/plain": [
       "(372679, 5)"
      ]
     },
     "execution_count": 77,
     "metadata": {},
     "output_type": "execute_result"
    }
   ],
   "source": [
    "df.shape"
   ]
  },
  {
   "cell_type": "code",
   "execution_count": 78,
   "metadata": {},
   "outputs": [
    {
     "data": {
      "text/plain": [
       "<bound method NDFrame.describe of                         OPEN     HIGH      LOW    CLOSE  Volume\n",
       "DT                                                             \n",
       "2016-01-03 17:00:00  1.08701  1.08713  1.08701  1.08713       0\n",
       "2016-01-03 17:01:00  1.08712  1.08712  1.08712  1.08712       0\n",
       "2016-01-03 17:02:00  1.08708  1.08722  1.08708  1.08722       0\n",
       "2016-01-03 17:03:00  1.08717  1.08723  1.08717  1.08723       0\n",
       "2016-01-03 17:04:00  1.08718  1.08718  1.08711  1.08711       0\n",
       "2016-01-03 17:05:00  1.08703  1.08716  1.08701  1.08712       0\n",
       "2016-01-03 17:06:00  1.08721  1.08721  1.08710  1.08710       0\n",
       "2016-01-03 17:07:00  1.08712  1.08715  1.08712  1.08712       0\n",
       "2016-01-03 17:08:00  1.08711  1.08720  1.08711  1.08713       0\n",
       "2016-01-03 17:09:00  1.08716  1.08723  1.08708  1.08708       0\n",
       "2016-01-03 17:10:00  1.08707  1.08707  1.08700  1.08700       0\n",
       "2016-01-03 17:11:00  1.08700  1.08700  1.08663  1.08663       0\n",
       "2016-01-03 17:12:00  1.08663  1.08663  1.08663  1.08663       0\n",
       "2016-01-03 17:13:00  1.08661  1.08665  1.08661  1.08665       0\n",
       "2016-01-03 17:14:00  1.08663  1.08668  1.08663  1.08664       0\n",
       "2016-01-03 17:15:00  1.08666  1.08669  1.08664  1.08669       0\n",
       "2016-01-03 17:16:00  1.08669  1.08669  1.08665  1.08665       0\n",
       "2016-01-03 17:17:00  1.08665  1.08669  1.08665  1.08669       0\n",
       "2016-01-03 17:18:00  1.08669  1.08669  1.08667  1.08667       0\n",
       "2016-01-03 17:19:00  1.08665  1.08665  1.08663  1.08664       0\n",
       "2016-01-03 17:20:00  1.08663  1.08663  1.08663  1.08663       0\n",
       "2016-01-03 17:21:00  1.08674  1.08704  1.08674  1.08704       0\n",
       "2016-01-03 17:22:00  1.08714  1.08714  1.08704  1.08704       0\n",
       "2016-01-03 17:23:00  1.08693  1.08693  1.08667  1.08693       0\n",
       "2016-01-03 17:24:00  1.08704  1.08707  1.08662  1.08662       0\n",
       "2016-01-03 17:25:00  1.08671  1.08688  1.08671  1.08688       0\n",
       "2016-01-03 17:26:00  1.08688  1.08688  1.08686  1.08688       0\n",
       "2016-01-03 17:27:00  1.08686  1.08688  1.08674  1.08674       0\n",
       "2016-01-03 17:28:00  1.08674  1.08674  1.08674  1.08674       0\n",
       "2016-01-03 17:29:00  1.08674  1.08674  1.08674  1.08674       0\n",
       "...                      ...      ...      ...      ...     ...\n",
       "2016-12-30 16:29:00  1.05194  1.05197  1.05187  1.05187       0\n",
       "2016-12-30 16:30:00  1.05191  1.05191  1.05181  1.05182       0\n",
       "2016-12-30 16:31:00  1.05182  1.05185  1.05182  1.05182       0\n",
       "2016-12-30 16:32:00  1.05183  1.05185  1.05167  1.05167       0\n",
       "2016-12-30 16:33:00  1.05167  1.05172  1.05167  1.05167       0\n",
       "2016-12-30 16:34:00  1.05167  1.05172  1.05167  1.05172       0\n",
       "2016-12-30 16:35:00  1.05171  1.05180  1.05171  1.05180       0\n",
       "2016-12-30 16:36:00  1.05182  1.05191  1.05181  1.05183       0\n",
       "2016-12-30 16:37:00  1.05187  1.05191  1.05185  1.05185       0\n",
       "2016-12-30 16:38:00  1.05185  1.05189  1.05172  1.05172       0\n",
       "2016-12-30 16:39:00  1.05172  1.05172  1.05167  1.05172       0\n",
       "2016-12-30 16:40:00  1.05171  1.05172  1.05167  1.05168       0\n",
       "2016-12-30 16:41:00  1.05168  1.05168  1.05139  1.05145       0\n",
       "2016-12-30 16:42:00  1.05142  1.05149  1.05142  1.05148       0\n",
       "2016-12-30 16:43:00  1.05149  1.05152  1.05149  1.05151       0\n",
       "2016-12-30 16:44:00  1.05151  1.05152  1.05150  1.05150       0\n",
       "2016-12-30 16:45:00  1.05147  1.05151  1.05146  1.05151       0\n",
       "2016-12-30 16:46:00  1.05148  1.05148  1.05123  1.05127       0\n",
       "2016-12-30 16:47:00  1.05132  1.05134  1.05123  1.05130       0\n",
       "2016-12-30 16:48:00  1.05129  1.05141  1.05123  1.05137       0\n",
       "2016-12-30 16:49:00  1.05145  1.05172  1.05141  1.05170       0\n",
       "2016-12-30 16:50:00  1.05166  1.05170  1.05146  1.05147       0\n",
       "2016-12-30 16:51:00  1.05147  1.05155  1.05146  1.05152       0\n",
       "2016-12-30 16:52:00  1.05152  1.05169  1.05143  1.05146       0\n",
       "2016-12-30 16:53:00  1.05144  1.05184  1.05143  1.05174       0\n",
       "2016-12-30 16:54:00  1.05178  1.05179  1.05167  1.05174       0\n",
       "2016-12-30 16:55:00  1.05175  1.05190  1.05162  1.05169       0\n",
       "2016-12-30 16:56:00  1.05167  1.05234  1.05127  1.05192       0\n",
       "2016-12-30 16:57:00  1.05170  1.05334  1.05169  1.05282       0\n",
       "2016-12-30 16:58:00  1.05278  1.05278  1.05204  1.05224       0\n",
       "\n",
       "[372679 rows x 5 columns]>"
      ]
     },
     "execution_count": 78,
     "metadata": {},
     "output_type": "execute_result"
    }
   ],
   "source": [
    "df.describe"
   ]
  },
  {
   "cell_type": "code",
   "execution_count": 79,
   "metadata": {},
   "outputs": [
    {
     "data": {
      "text/plain": [
       "Index(['OPEN', 'HIGH', 'LOW', 'CLOSE', 'Volume'], dtype='object')"
      ]
     },
     "execution_count": 79,
     "metadata": {},
     "output_type": "execute_result"
    }
   ],
   "source": [
    "df.columns"
   ]
  },
  {
   "cell_type": "code",
   "execution_count": 80,
   "metadata": {},
   "outputs": [
    {
     "data": {
      "text/plain": [
       "[]"
      ]
     },
     "execution_count": 80,
     "metadata": {},
     "output_type": "execute_result"
    }
   ],
   "source": [
    "## finding all columns that have nan:\n",
    "\n",
    "droping_list_all=[]\n",
    "for j in range(0,5):\n",
    "    if not df.iloc[:, j].notnull().all():\n",
    "        droping_list_all.append(j)        \n",
    "        #print(df.iloc[:,j].unique())\n",
    "droping_list_all"
   ]
  },
  {
   "cell_type": "code",
   "execution_count": 81,
   "metadata": {},
   "outputs": [],
   "source": [
    "# filling nan with mean in any columns\n",
    "\n",
    "for j in range(0,5):        \n",
    "        df.iloc[:,j]=df.iloc[:,j].fillna(df.iloc[:,j].mean())"
   ]
  },
  {
   "cell_type": "code",
   "execution_count": 82,
   "metadata": {},
   "outputs": [
    {
     "data": {
      "text/plain": [
       "OPEN      0\n",
       "HIGH      0\n",
       "LOW       0\n",
       "CLOSE     0\n",
       "Volume    0\n",
       "dtype: int64"
      ]
     },
     "execution_count": 82,
     "metadata": {},
     "output_type": "execute_result"
    }
   ],
   "source": [
    "# another sanity check to make sure that there are not more any nan\n",
    "df.isnull().sum()"
   ]
  },
  {
   "cell_type": "code",
   "execution_count": 83,
   "metadata": {},
   "outputs": [],
   "source": [
    "def series_to_supervised(data, n_in=1, n_out=1, dropnan=True):\n",
    "\tn_vars = 1 if type(data) is list else data.shape[1]\n",
    "\tdff = pd.DataFrame(data)\n",
    "\tcols, names = list(), list()\n",
    "\t# input sequence (t-n, ... t-1)\n",
    "\tfor i in range(n_in, 0, -1):\n",
    "\t\tcols.append(dff.shift(i))\n",
    "\t\tnames += [('var%d(t-%d)' % (j+1, i)) for j in range(n_vars)]\n",
    "\t# forecast sequence (t, t+1, ... t+n)\n",
    "\tfor i in range(0, n_out):\n",
    "\t\tcols.append(dff.shift(-i))\n",
    "\t\tif i == 0:\n",
    "\t\t\tnames += [('var%d(t)' % (j+1)) for j in range(n_vars)]\n",
    "\t\telse:\n",
    "\t\t\tnames += [('var%d(t+%d)' % (j+1, i)) for j in range(n_vars)]\n",
    "\t# put it all together\n",
    "\tagg = pd.concat(cols, axis=1)\n",
    "\tagg.columns = names\n",
    "\t# drop rows with NaN values\n",
    "\tif dropnan:\n",
    "\t\tagg.dropna(inplace=True)\n",
    "\treturn agg\n",
    " \n"
   ]
  },
  {
   "cell_type": "code",
   "execution_count": 84,
   "metadata": {},
   "outputs": [
    {
     "data": {
      "text/plain": [
       "(8688, 5)"
      ]
     },
     "execution_count": 84,
     "metadata": {},
     "output_type": "execute_result"
    }
   ],
   "source": [
    "## resampling of data over hour\n",
    "df_resample = df.resample('h').mean() \n",
    "df_resample.shape"
   ]
  },
  {
   "cell_type": "code",
   "execution_count": 85,
   "metadata": {},
   "outputs": [
    {
     "data": {
      "text/html": [
       "<div>\n",
       "<style scoped>\n",
       "    .dataframe tbody tr th:only-of-type {\n",
       "        vertical-align: middle;\n",
       "    }\n",
       "\n",
       "    .dataframe tbody tr th {\n",
       "        vertical-align: top;\n",
       "    }\n",
       "\n",
       "    .dataframe thead th {\n",
       "        text-align: right;\n",
       "    }\n",
       "</style>\n",
       "<table border=\"1\" class=\"dataframe\">\n",
       "  <thead>\n",
       "    <tr style=\"text-align: right;\">\n",
       "      <th></th>\n",
       "      <th>OPEN</th>\n",
       "      <th>HIGH</th>\n",
       "      <th>LOW</th>\n",
       "      <th>CLOSE</th>\n",
       "      <th>Volume</th>\n",
       "    </tr>\n",
       "    <tr>\n",
       "      <th>DT</th>\n",
       "      <th></th>\n",
       "      <th></th>\n",
       "      <th></th>\n",
       "      <th></th>\n",
       "      <th></th>\n",
       "    </tr>\n",
       "  </thead>\n",
       "  <tbody>\n",
       "    <tr>\n",
       "      <th>2016-01-03 17:00:00</th>\n",
       "      <td>1.086829</td>\n",
       "      <td>1.086863</td>\n",
       "      <td>1.086780</td>\n",
       "      <td>1.086817</td>\n",
       "      <td>0.0</td>\n",
       "    </tr>\n",
       "    <tr>\n",
       "      <th>2016-01-03 18:00:00</th>\n",
       "      <td>1.085373</td>\n",
       "      <td>1.085438</td>\n",
       "      <td>1.085290</td>\n",
       "      <td>1.085345</td>\n",
       "      <td>0.0</td>\n",
       "    </tr>\n",
       "    <tr>\n",
       "      <th>2016-01-03 19:00:00</th>\n",
       "      <td>1.084998</td>\n",
       "      <td>1.085068</td>\n",
       "      <td>1.084926</td>\n",
       "      <td>1.084987</td>\n",
       "      <td>0.0</td>\n",
       "    </tr>\n",
       "    <tr>\n",
       "      <th>2016-01-03 20:00:00</th>\n",
       "      <td>1.084145</td>\n",
       "      <td>1.084272</td>\n",
       "      <td>1.084054</td>\n",
       "      <td>1.084167</td>\n",
       "      <td>0.0</td>\n",
       "    </tr>\n",
       "    <tr>\n",
       "      <th>2016-01-03 21:00:00</th>\n",
       "      <td>1.086463</td>\n",
       "      <td>1.086611</td>\n",
       "      <td>1.086362</td>\n",
       "      <td>1.086483</td>\n",
       "      <td>0.0</td>\n",
       "    </tr>\n",
       "  </tbody>\n",
       "</table>\n",
       "</div>"
      ],
      "text/plain": [
       "                         OPEN      HIGH       LOW     CLOSE  Volume\n",
       "DT                                                                 \n",
       "2016-01-03 17:00:00  1.086829  1.086863  1.086780  1.086817     0.0\n",
       "2016-01-03 18:00:00  1.085373  1.085438  1.085290  1.085345     0.0\n",
       "2016-01-03 19:00:00  1.084998  1.085068  1.084926  1.084987     0.0\n",
       "2016-01-03 20:00:00  1.084145  1.084272  1.084054  1.084167     0.0\n",
       "2016-01-03 21:00:00  1.086463  1.086611  1.086362  1.086483     0.0"
      ]
     },
     "execution_count": 85,
     "metadata": {},
     "output_type": "execute_result"
    }
   ],
   "source": [
    "df_resample.head(5)"
   ]
  },
  {
   "cell_type": "code",
   "execution_count": 86,
   "metadata": {},
   "outputs": [
    {
     "name": "stdout",
     "output_type": "stream",
     "text": [
      "   var1(t-1)  var2(t-1)  var3(t-1)  var4(t-1)  var5(t-1)   var1(t)\n",
      "1   0.410176   0.409576   0.412505   0.411233        0.0  0.411048\n",
      "2   0.411048   0.409498   0.413382   0.411154        0.0  0.410730\n",
      "3   0.410730   0.410291   0.413062   0.411945        0.0  0.411444\n",
      "4   0.411444   0.410370   0.413779   0.412024        0.0  0.411523\n",
      "5   0.411523   0.409974   0.413301   0.411075        0.0  0.410335\n"
     ]
    }
   ],
   "source": [
    "## * Note: I scale all features in range of [0,1].\n",
    "\n",
    "## If you would like to train based on the resampled data (over hour), then used below\n",
    "values = df_resample.values \n",
    "\n",
    "\n",
    "## full data without resampling\n",
    "values = df.values\n",
    "\n",
    "# integer encode direction\n",
    "# ensure all data is float\n",
    "values = values.astype('float32')\n",
    "\n",
    "# normalize features\n",
    "scaler = MinMaxScaler(feature_range=(0, 1))\n",
    "scaled = scaler.fit_transform(values)\n",
    "# frame as supervised learning\n",
    "reframed = series_to_supervised(scaled, 1, 1)\n",
    "\n",
    "# drop columns we don't want to predict\n",
    "reframed.drop(reframed.columns[[6,7,8,9]], axis=1, inplace=True)\n",
    "print(reframed.head())"
   ]
  },
  {
   "cell_type": "code",
   "execution_count": 87,
   "metadata": {},
   "outputs": [
    {
     "name": "stdout",
     "output_type": "stream",
     "text": [
      "(8688, 1, 5) (8688,) (363990, 1, 5) (363990,)\n"
     ]
    }
   ],
   "source": [
    "# split into train and test sets\n",
    "values = reframed.values\n",
    "\n",
    "#8688 * 0.7 =6081\n",
    "\n",
    "n_train_time = 8688\n",
    "train = values[:n_train_time, :]\n",
    "test = values[n_train_time:, :]\n",
    "##test = values[n_train_time:n_test_time, :]\n",
    "# split into input and outputs\n",
    "train_X, train_y = train[:, :-1], train[:, -1]\n",
    "test_X, test_y = test[:, :-1], test[:, -1]\n",
    "# reshape input to be 3D [samples, timesteps, features]\n",
    "train_X = train_X.reshape((train_X.shape[0], 1, train_X.shape[1]))\n",
    "test_X = test_X.reshape((test_X.shape[0], 1, test_X.shape[1]))\n",
    "print(train_X.shape, train_y.shape, test_X.shape, test_y.shape) \n",
    "# We reshaped the input into the 3D format as expected by LSTMs, namely [samples, timesteps, features]."
   ]
  },
  {
   "cell_type": "code",
   "execution_count": 88,
   "metadata": {},
   "outputs": [],
   "source": [
    "## for Deep-learing:\n",
    "import keras\n",
    "from keras.layers import Dense\n",
    "from keras.models import Sequential\n",
    "from keras.utils import to_categorical\n",
    "from keras.optimizers import SGD \n",
    "from keras.callbacks import EarlyStopping\n",
    "from keras.utils import np_utils\n",
    "import itertools\n",
    "from keras.layers import LSTM\n",
    "from keras.layers.convolutional import Conv1D\n",
    "from keras.layers.convolutional import MaxPooling1D\n",
    "from keras.layers import Dropout"
   ]
  },
  {
   "cell_type": "code",
   "execution_count": 89,
   "metadata": {},
   "outputs": [],
   "source": [
    "# model = Sequential()\n",
    "# model.add(LSTM(50, input_shape=(train_X.shape[1], train_X.shape[2]), activation='tanh', return_sequences = True))\n",
    "# model.add(LSTM(25, activation = 'tanh'))\n",
    "# #model.add(LSTM(6))\n",
    "# model.add(Dense(1, activation = 'sigmoid'))\n",
    "# model.compile(loss='mean_squared_error', optimizer='rmsprop', metrics = ['accuracy'])"
   ]
  },
  {
   "cell_type": "code",
   "execution_count": 90,
   "metadata": {},
   "outputs": [
    {
     "name": "stdout",
     "output_type": "stream",
     "text": [
      "Train on 8688 samples, validate on 363990 samples\n",
      "Epoch 1/20\n",
      " - 5s - loss: 0.0175 - val_loss: 0.0068\n",
      "Epoch 2/20\n",
      " - 5s - loss: 6.9361e-04 - val_loss: 0.0066\n",
      "Epoch 3/20\n",
      " - 5s - loss: 6.5967e-04 - val_loss: 0.0071\n",
      "Epoch 4/20\n",
      " - 5s - loss: 6.1696e-04 - val_loss: 0.0074\n",
      "Epoch 5/20\n",
      " - 5s - loss: 5.8816e-04 - val_loss: 0.0077\n",
      "Epoch 6/20\n",
      " - 5s - loss: 5.6816e-04 - val_loss: 0.0085\n",
      "Epoch 7/20\n",
      " - 5s - loss: 5.4417e-04 - val_loss: 0.0093\n",
      "Epoch 8/20\n",
      " - 5s - loss: 5.2148e-04 - val_loss: 0.0102\n",
      "Epoch 9/20\n",
      " - 5s - loss: 5.1169e-04 - val_loss: 0.0101\n",
      "Epoch 10/20\n",
      " - 5s - loss: 4.8714e-04 - val_loss: 0.0109\n",
      "Epoch 11/20\n",
      " - 5s - loss: 4.7431e-04 - val_loss: 0.0104\n",
      "Epoch 12/20\n",
      " - 5s - loss: 4.2685e-04 - val_loss: 0.0107\n",
      "Epoch 13/20\n",
      " - 5s - loss: 4.5228e-04 - val_loss: 0.0115\n",
      "Epoch 14/20\n",
      " - 5s - loss: 4.3016e-04 - val_loss: 0.0108\n",
      "Epoch 15/20\n",
      " - 5s - loss: 4.2553e-04 - val_loss: 0.0110\n",
      "Epoch 16/20\n",
      " - 5s - loss: 4.0189e-04 - val_loss: 0.0104\n",
      "Epoch 17/20\n",
      " - 5s - loss: 3.8826e-04 - val_loss: 0.0108\n",
      "Epoch 18/20\n",
      " - 5s - loss: 3.6589e-04 - val_loss: 0.0108\n",
      "Epoch 19/20\n",
      " - 5s - loss: 3.6864e-04 - val_loss: 0.0118\n",
      "Epoch 20/20\n",
      " - 5s - loss: 3.9298e-04 - val_loss: 0.0112\n"
     ]
    },
    {
     "data": {
      "image/png": "[encoded data removed]",
      "text/plain": [
       "<Figure size 432x288 with 1 Axes>"
      ]
     },
     "metadata": {},
     "output_type": "display_data"
    },
    {
     "name": "stdout",
     "output_type": "stream",
     "text": [
      "Test RMSE: 0.013\n"
     ]
    }
   ],
   "source": [
    "model = Sequential()\n",
    "model.add(LSTM(100, input_shape=(train_X.shape[1], train_X.shape[2])))\n",
    "model.add(Dropout(0.2))\n",
    "\n",
    "#model.add(LSTM(25, activation = 'tanh'))\n",
    "# model.add(LSTM(70,activation = 'tanh'))\n",
    "# model.add(Dropout(0.3))\n",
    "\n",
    "model.add(Dense(1))\n",
    "model.compile(loss='mean_squared_error', optimizer='adam')\n",
    "\n",
    "\n",
    "\n",
    "# fit network\n",
    "history = model.fit(train_X, train_y, epochs=20, batch_size=70, validation_data=(test_X, test_y), verbose=2, shuffle=False)\n",
    "\n",
    "# summarize history for loss\n",
    "pyplot.plot(history.history['loss'])\n",
    "pyplot.plot(history.history['val_loss'])\n",
    "pyplot.title('model loss')\n",
    "pyplot.ylabel('loss')\n",
    "pyplot.xlabel('epoch')\n",
    "pyplot.legend(['train', 'test'], loc='upper right')\n",
    "pyplot.show()\n",
    "\n",
    "# make a prediction\n",
    "yhat = model.predict(test_X)\n",
    "test_X = test_X.reshape((test_X.shape[0], 5))\n",
    "\n",
    "# invert scaling for forecast\n",
    "inv_yhat = np.concatenate((yhat, test_X[:, -4:]), axis=1)\n",
    "inv_yhat = scaler.inverse_transform(inv_yhat)\n",
    "inv_yhat = inv_yhat[:,0]\n",
    "\n",
    "# invert scaling for actual\n",
    "test_y = test_y.reshape((len(test_y), 1))\n",
    "inv_y = np.concatenate((test_y, test_X[:, -4:]), axis=1)\n",
    "inv_y = scaler.inverse_transform(inv_y)\n",
    "inv_y = inv_y[:,0]\n",
    "\n",
    "# calculate RMSE\n",
    "rmse = np.sqrt(mean_squared_error(inv_y, inv_yhat))\n",
    "print('Test RMSE: %.3f' % rmse)"
   ]
  },
  {
   "cell_type": "code",
   "execution_count": 91,
   "metadata": {},
   "outputs": [
    {
     "data": {
      "image/png": "[encoded data removed]",
      "text/plain": [
       "<Figure size 432x288 with 1 Axes>"
      ]
     },
     "metadata": {},
     "output_type": "display_data"
    }
   ],
   "source": [
    "## time steps, every step is one hour (you can easily convert the time step to the actual time index)\n",
    "## for a demonstration purpose, I only compare the predictions in 200 hours. \n",
    "\n",
    "aa=[x for x in range(500)]\n",
    "pyplot.plot(aa, inv_y[:500], marker='.', label=\"actual\")\n",
    "pyplot.plot(aa, inv_yhat[:500], 'r', label=\"prediction\")\n",
    "pyplot.ylabel('OPEN value', size=15)\n",
    "pyplot.xlabel('Time step', size=15)\n",
    "pyplot.legend(fontsize=15)\n",
    "pyplot.show()"
   ]
  },
  {
   "cell_type": "code",
   "execution_count": 23,
   "metadata": {},
   "outputs": [],
   "source": [
    "# define one new instance\n",
    "# Xnew = (2017-1-3 10:0:0)"
   ]
  },
  {
   "cell_type": "code",
   "execution_count": null,
   "metadata": {},
   "outputs": [],
   "source": []
  }
 ],
 "metadata": {
  "kernelspec": {
   "display_name": "Python 3",
   "language": "python",
   "name": "python3"
  },
  "language_info": {
   "codemirror_mode": {
    "name": "ipython",
    "version": 3
   },
   "file_extension": ".py",
   "mimetype": "text/x-python",
   "name": "python",
   "nbconvert_exporter": "python",
   "pygments_lexer": "ipython3",
   "version": "3.6.5"
  }
 },
 "nbformat": 4,
 "nbformat_minor": 2
}
